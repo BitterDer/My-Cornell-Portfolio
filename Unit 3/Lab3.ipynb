{
 "cells": [
  {
   "cell_type": "markdown",
   "metadata": {},
   "source": [
    "# Lab 3: Training Decision Tree & KNN Classifiers"
   ]
  },
  {
   "cell_type": "code",
   "execution_count": 1,
   "metadata": {},
   "outputs": [],
   "source": [
    "import pandas as pd\n",
    "import numpy as np\n",
    "import os \n",
    "import matplotlib.pyplot as plt\n",
    "import seaborn as sns\n",
    "pd.options.mode.chained_assignment = None \n",
    "\n",
    "\n",
    "from sklearn.model_selection import train_test_split \n",
    "from sklearn.preprocessing import OneHotEncoder \n",
    "from sklearn.tree import DecisionTreeClassifier\n",
    "from sklearn.neighbors import KNeighborsClassifier\n",
    "from sklearn.metrics import accuracy_score"
   ]
  },
  {
   "cell_type": "markdown",
   "metadata": {},
   "source": [
    "In this Lab session, you will implement the following steps:\n",
    "\n",
    "1. Load the Airbnb \"listings\" data set\n",
    "2. Convert categorical features to one-hot encoded values\n",
    "3. Split the data into training and test sets\n",
    "4. Fit a Decision Tree classifier and evaluate the accuracy\n",
    " - Plot the accuracy of the DT model as a function of hyperparameter max depth\n",
    "5. Fit a KNN classifier and evaluate the accuracy\n",
    " - Plot the accuracy of the KNN model as a function of hyperparameter $k$"
   ]
  },
  {
   "cell_type": "markdown",
   "metadata": {},
   "source": [
    "## Part 1. Load the Dataset"
   ]
  },
  {
   "cell_type": "markdown",
   "metadata": {},
   "source": [
    "We will work with a pre-processed version of the Airbnb NYC \"listings\" data set."
   ]
  },
  {
   "cell_type": "markdown",
   "metadata": {},
   "source": [
    "<b>Task</b>: load the data set into a Pandas DataFrame variable named `df`:"
   ]
  },
  {
   "cell_type": "code",
   "execution_count": 2,
   "metadata": {},
   "outputs": [],
   "source": [
    "# Do not remove or edit the line below:\n",
    "filename = os.path.join(os.getcwd(), \"data\", \"airbnb.csv.gz\")\n",
    "\n",
    "# YOUR CODE HERE\n",
    "df = pd.read_csv(filename, header=0)"
   ]
  },
  {
   "cell_type": "code",
   "execution_count": 3,
   "metadata": {},
   "outputs": [
    {
     "data": {
      "text/plain": [
       "(28022, 44)"
      ]
     },
     "execution_count": 3,
     "metadata": {},
     "output_type": "execute_result"
    }
   ],
   "source": [
    "df.shape"
   ]
  },
  {
   "cell_type": "code",
   "execution_count": 4,
   "metadata": {},
   "outputs": [
    {
     "data": {
      "text/html": [
       "<div>\n",
       "<style scoped>\n",
       "    .dataframe tbody tr th:only-of-type {\n",
       "        vertical-align: middle;\n",
       "    }\n",
       "\n",
       "    .dataframe tbody tr th {\n",
       "        vertical-align: top;\n",
       "    }\n",
       "\n",
       "    .dataframe thead th {\n",
       "        text-align: right;\n",
       "    }\n",
       "</style>\n",
       "<table border=\"1\" class=\"dataframe\">\n",
       "  <thead>\n",
       "    <tr style=\"text-align: right;\">\n",
       "      <th></th>\n",
       "      <th>host_response_rate</th>\n",
       "      <th>host_acceptance_rate</th>\n",
       "      <th>host_is_superhost</th>\n",
       "      <th>host_listings_count</th>\n",
       "      <th>host_total_listings_count</th>\n",
       "      <th>host_has_profile_pic</th>\n",
       "      <th>host_identity_verified</th>\n",
       "      <th>neighbourhood_group_cleansed</th>\n",
       "      <th>room_type</th>\n",
       "      <th>accommodates</th>\n",
       "      <th>...</th>\n",
       "      <th>review_scores_communication</th>\n",
       "      <th>review_scores_location</th>\n",
       "      <th>review_scores_value</th>\n",
       "      <th>instant_bookable</th>\n",
       "      <th>calculated_host_listings_count</th>\n",
       "      <th>calculated_host_listings_count_entire_homes</th>\n",
       "      <th>calculated_host_listings_count_private_rooms</th>\n",
       "      <th>calculated_host_listings_count_shared_rooms</th>\n",
       "      <th>reviews_per_month</th>\n",
       "      <th>n_host_verifications</th>\n",
       "    </tr>\n",
       "  </thead>\n",
       "  <tbody>\n",
       "    <tr>\n",
       "      <th>0</th>\n",
       "      <td>0.800000</td>\n",
       "      <td>0.170000</td>\n",
       "      <td>False</td>\n",
       "      <td>8.0</td>\n",
       "      <td>8.0</td>\n",
       "      <td>True</td>\n",
       "      <td>True</td>\n",
       "      <td>Manhattan</td>\n",
       "      <td>Entire home/apt</td>\n",
       "      <td>1</td>\n",
       "      <td>...</td>\n",
       "      <td>4.79</td>\n",
       "      <td>4.86</td>\n",
       "      <td>4.41</td>\n",
       "      <td>False</td>\n",
       "      <td>3</td>\n",
       "      <td>3</td>\n",
       "      <td>0</td>\n",
       "      <td>0</td>\n",
       "      <td>0.33</td>\n",
       "      <td>9</td>\n",
       "    </tr>\n",
       "    <tr>\n",
       "      <th>1</th>\n",
       "      <td>0.090000</td>\n",
       "      <td>0.690000</td>\n",
       "      <td>False</td>\n",
       "      <td>1.0</td>\n",
       "      <td>1.0</td>\n",
       "      <td>True</td>\n",
       "      <td>True</td>\n",
       "      <td>Brooklyn</td>\n",
       "      <td>Entire home/apt</td>\n",
       "      <td>3</td>\n",
       "      <td>...</td>\n",
       "      <td>4.80</td>\n",
       "      <td>4.71</td>\n",
       "      <td>4.64</td>\n",
       "      <td>False</td>\n",
       "      <td>1</td>\n",
       "      <td>1</td>\n",
       "      <td>0</td>\n",
       "      <td>0</td>\n",
       "      <td>4.86</td>\n",
       "      <td>6</td>\n",
       "    </tr>\n",
       "    <tr>\n",
       "      <th>2</th>\n",
       "      <td>1.000000</td>\n",
       "      <td>0.250000</td>\n",
       "      <td>False</td>\n",
       "      <td>1.0</td>\n",
       "      <td>1.0</td>\n",
       "      <td>True</td>\n",
       "      <td>True</td>\n",
       "      <td>Brooklyn</td>\n",
       "      <td>Entire home/apt</td>\n",
       "      <td>4</td>\n",
       "      <td>...</td>\n",
       "      <td>5.00</td>\n",
       "      <td>4.50</td>\n",
       "      <td>5.00</td>\n",
       "      <td>False</td>\n",
       "      <td>1</td>\n",
       "      <td>1</td>\n",
       "      <td>0</td>\n",
       "      <td>0</td>\n",
       "      <td>0.02</td>\n",
       "      <td>3</td>\n",
       "    </tr>\n",
       "    <tr>\n",
       "      <th>3</th>\n",
       "      <td>1.000000</td>\n",
       "      <td>1.000000</td>\n",
       "      <td>False</td>\n",
       "      <td>1.0</td>\n",
       "      <td>1.0</td>\n",
       "      <td>True</td>\n",
       "      <td>False</td>\n",
       "      <td>Manhattan</td>\n",
       "      <td>Private room</td>\n",
       "      <td>2</td>\n",
       "      <td>...</td>\n",
       "      <td>4.42</td>\n",
       "      <td>4.87</td>\n",
       "      <td>4.36</td>\n",
       "      <td>False</td>\n",
       "      <td>1</td>\n",
       "      <td>0</td>\n",
       "      <td>1</td>\n",
       "      <td>0</td>\n",
       "      <td>3.68</td>\n",
       "      <td>4</td>\n",
       "    </tr>\n",
       "    <tr>\n",
       "      <th>4</th>\n",
       "      <td>0.890731</td>\n",
       "      <td>0.768297</td>\n",
       "      <td>False</td>\n",
       "      <td>1.0</td>\n",
       "      <td>1.0</td>\n",
       "      <td>True</td>\n",
       "      <td>True</td>\n",
       "      <td>Manhattan</td>\n",
       "      <td>Private room</td>\n",
       "      <td>1</td>\n",
       "      <td>...</td>\n",
       "      <td>4.95</td>\n",
       "      <td>4.94</td>\n",
       "      <td>4.92</td>\n",
       "      <td>False</td>\n",
       "      <td>1</td>\n",
       "      <td>0</td>\n",
       "      <td>1</td>\n",
       "      <td>0</td>\n",
       "      <td>0.87</td>\n",
       "      <td>7</td>\n",
       "    </tr>\n",
       "    <tr>\n",
       "      <th>5</th>\n",
       "      <td>1.000000</td>\n",
       "      <td>1.000000</td>\n",
       "      <td>True</td>\n",
       "      <td>3.0</td>\n",
       "      <td>3.0</td>\n",
       "      <td>True</td>\n",
       "      <td>True</td>\n",
       "      <td>Brooklyn</td>\n",
       "      <td>Private room</td>\n",
       "      <td>2</td>\n",
       "      <td>...</td>\n",
       "      <td>4.82</td>\n",
       "      <td>4.87</td>\n",
       "      <td>4.73</td>\n",
       "      <td>False</td>\n",
       "      <td>3</td>\n",
       "      <td>1</td>\n",
       "      <td>2</td>\n",
       "      <td>0</td>\n",
       "      <td>1.48</td>\n",
       "      <td>7</td>\n",
       "    </tr>\n",
       "    <tr>\n",
       "      <th>6</th>\n",
       "      <td>1.000000</td>\n",
       "      <td>1.000000</td>\n",
       "      <td>False</td>\n",
       "      <td>1.0</td>\n",
       "      <td>1.0</td>\n",
       "      <td>True</td>\n",
       "      <td>True</td>\n",
       "      <td>Brooklyn</td>\n",
       "      <td>Entire home/apt</td>\n",
       "      <td>3</td>\n",
       "      <td>...</td>\n",
       "      <td>4.80</td>\n",
       "      <td>4.67</td>\n",
       "      <td>4.57</td>\n",
       "      <td>True</td>\n",
       "      <td>1</td>\n",
       "      <td>1</td>\n",
       "      <td>0</td>\n",
       "      <td>0</td>\n",
       "      <td>1.24</td>\n",
       "      <td>7</td>\n",
       "    </tr>\n",
       "    <tr>\n",
       "      <th>7</th>\n",
       "      <td>1.000000</td>\n",
       "      <td>1.000000</td>\n",
       "      <td>False</td>\n",
       "      <td>3.0</td>\n",
       "      <td>3.0</td>\n",
       "      <td>True</td>\n",
       "      <td>True</td>\n",
       "      <td>Manhattan</td>\n",
       "      <td>Private room</td>\n",
       "      <td>1</td>\n",
       "      <td>...</td>\n",
       "      <td>4.95</td>\n",
       "      <td>4.84</td>\n",
       "      <td>4.84</td>\n",
       "      <td>True</td>\n",
       "      <td>1</td>\n",
       "      <td>0</td>\n",
       "      <td>1</td>\n",
       "      <td>0</td>\n",
       "      <td>1.82</td>\n",
       "      <td>5</td>\n",
       "    </tr>\n",
       "    <tr>\n",
       "      <th>8</th>\n",
       "      <td>1.000000</td>\n",
       "      <td>0.000000</td>\n",
       "      <td>False</td>\n",
       "      <td>2.0</td>\n",
       "      <td>2.0</td>\n",
       "      <td>True</td>\n",
       "      <td>True</td>\n",
       "      <td>Brooklyn</td>\n",
       "      <td>Private room</td>\n",
       "      <td>1</td>\n",
       "      <td>...</td>\n",
       "      <td>5.00</td>\n",
       "      <td>5.00</td>\n",
       "      <td>5.00</td>\n",
       "      <td>False</td>\n",
       "      <td>2</td>\n",
       "      <td>0</td>\n",
       "      <td>2</td>\n",
       "      <td>0</td>\n",
       "      <td>0.07</td>\n",
       "      <td>5</td>\n",
       "    </tr>\n",
       "    <tr>\n",
       "      <th>9</th>\n",
       "      <td>1.000000</td>\n",
       "      <td>0.990000</td>\n",
       "      <td>True</td>\n",
       "      <td>1.0</td>\n",
       "      <td>1.0</td>\n",
       "      <td>True</td>\n",
       "      <td>True</td>\n",
       "      <td>Brooklyn</td>\n",
       "      <td>Entire home/apt</td>\n",
       "      <td>4</td>\n",
       "      <td>...</td>\n",
       "      <td>4.91</td>\n",
       "      <td>4.93</td>\n",
       "      <td>4.78</td>\n",
       "      <td>True</td>\n",
       "      <td>2</td>\n",
       "      <td>1</td>\n",
       "      <td>1</td>\n",
       "      <td>0</td>\n",
       "      <td>3.05</td>\n",
       "      <td>8</td>\n",
       "    </tr>\n",
       "  </tbody>\n",
       "</table>\n",
       "<p>10 rows × 44 columns</p>\n",
       "</div>"
      ],
      "text/plain": [
       "   host_response_rate  host_acceptance_rate  host_is_superhost  \\\n",
       "0            0.800000              0.170000              False   \n",
       "1            0.090000              0.690000              False   \n",
       "2            1.000000              0.250000              False   \n",
       "3            1.000000              1.000000              False   \n",
       "4            0.890731              0.768297              False   \n",
       "5            1.000000              1.000000               True   \n",
       "6            1.000000              1.000000              False   \n",
       "7            1.000000              1.000000              False   \n",
       "8            1.000000              0.000000              False   \n",
       "9            1.000000              0.990000               True   \n",
       "\n",
       "   host_listings_count  host_total_listings_count  host_has_profile_pic  \\\n",
       "0                  8.0                        8.0                  True   \n",
       "1                  1.0                        1.0                  True   \n",
       "2                  1.0                        1.0                  True   \n",
       "3                  1.0                        1.0                  True   \n",
       "4                  1.0                        1.0                  True   \n",
       "5                  3.0                        3.0                  True   \n",
       "6                  1.0                        1.0                  True   \n",
       "7                  3.0                        3.0                  True   \n",
       "8                  2.0                        2.0                  True   \n",
       "9                  1.0                        1.0                  True   \n",
       "\n",
       "   host_identity_verified neighbourhood_group_cleansed        room_type  \\\n",
       "0                    True                    Manhattan  Entire home/apt   \n",
       "1                    True                     Brooklyn  Entire home/apt   \n",
       "2                    True                     Brooklyn  Entire home/apt   \n",
       "3                   False                    Manhattan     Private room   \n",
       "4                    True                    Manhattan     Private room   \n",
       "5                    True                     Brooklyn     Private room   \n",
       "6                    True                     Brooklyn  Entire home/apt   \n",
       "7                    True                    Manhattan     Private room   \n",
       "8                    True                     Brooklyn     Private room   \n",
       "9                    True                     Brooklyn  Entire home/apt   \n",
       "\n",
       "   accommodates  ...  review_scores_communication  review_scores_location  \\\n",
       "0             1  ...                         4.79                    4.86   \n",
       "1             3  ...                         4.80                    4.71   \n",
       "2             4  ...                         5.00                    4.50   \n",
       "3             2  ...                         4.42                    4.87   \n",
       "4             1  ...                         4.95                    4.94   \n",
       "5             2  ...                         4.82                    4.87   \n",
       "6             3  ...                         4.80                    4.67   \n",
       "7             1  ...                         4.95                    4.84   \n",
       "8             1  ...                         5.00                    5.00   \n",
       "9             4  ...                         4.91                    4.93   \n",
       "\n",
       "   review_scores_value instant_bookable  calculated_host_listings_count  \\\n",
       "0                 4.41            False                               3   \n",
       "1                 4.64            False                               1   \n",
       "2                 5.00            False                               1   \n",
       "3                 4.36            False                               1   \n",
       "4                 4.92            False                               1   \n",
       "5                 4.73            False                               3   \n",
       "6                 4.57             True                               1   \n",
       "7                 4.84             True                               1   \n",
       "8                 5.00            False                               2   \n",
       "9                 4.78             True                               2   \n",
       "\n",
       "   calculated_host_listings_count_entire_homes  \\\n",
       "0                                            3   \n",
       "1                                            1   \n",
       "2                                            1   \n",
       "3                                            0   \n",
       "4                                            0   \n",
       "5                                            1   \n",
       "6                                            1   \n",
       "7                                            0   \n",
       "8                                            0   \n",
       "9                                            1   \n",
       "\n",
       "   calculated_host_listings_count_private_rooms  \\\n",
       "0                                             0   \n",
       "1                                             0   \n",
       "2                                             0   \n",
       "3                                             1   \n",
       "4                                             1   \n",
       "5                                             2   \n",
       "6                                             0   \n",
       "7                                             1   \n",
       "8                                             2   \n",
       "9                                             1   \n",
       "\n",
       "   calculated_host_listings_count_shared_rooms  reviews_per_month  \\\n",
       "0                                            0               0.33   \n",
       "1                                            0               4.86   \n",
       "2                                            0               0.02   \n",
       "3                                            0               3.68   \n",
       "4                                            0               0.87   \n",
       "5                                            0               1.48   \n",
       "6                                            0               1.24   \n",
       "7                                            0               1.82   \n",
       "8                                            0               0.07   \n",
       "9                                            0               3.05   \n",
       "\n",
       "   n_host_verifications  \n",
       "0                     9  \n",
       "1                     6  \n",
       "2                     3  \n",
       "3                     4  \n",
       "4                     7  \n",
       "5                     7  \n",
       "6                     7  \n",
       "7                     5  \n",
       "8                     5  \n",
       "9                     8  \n",
       "\n",
       "[10 rows x 44 columns]"
      ]
     },
     "execution_count": 4,
     "metadata": {},
     "output_type": "execute_result"
    }
   ],
   "source": [
    "df.head(10)"
   ]
  },
  {
   "cell_type": "code",
   "execution_count": 5,
   "metadata": {},
   "outputs": [
    {
     "data": {
      "text/plain": [
       "Index(['host_response_rate', 'host_acceptance_rate', 'host_is_superhost',\n",
       "       'host_listings_count', 'host_total_listings_count',\n",
       "       'host_has_profile_pic', 'host_identity_verified',\n",
       "       'neighbourhood_group_cleansed', 'room_type', 'accommodates',\n",
       "       'bathrooms', 'bedrooms', 'beds', 'amenities', 'price', 'minimum_nights',\n",
       "       'maximum_nights', 'minimum_minimum_nights', 'maximum_minimum_nights',\n",
       "       'minimum_maximum_nights', 'maximum_maximum_nights',\n",
       "       'minimum_nights_avg_ntm', 'maximum_nights_avg_ntm', 'has_availability',\n",
       "       'availability_30', 'availability_60', 'availability_90',\n",
       "       'availability_365', 'number_of_reviews', 'number_of_reviews_ltm',\n",
       "       'number_of_reviews_l30d', 'review_scores_rating',\n",
       "       'review_scores_cleanliness', 'review_scores_checkin',\n",
       "       'review_scores_communication', 'review_scores_location',\n",
       "       'review_scores_value', 'instant_bookable',\n",
       "       'calculated_host_listings_count',\n",
       "       'calculated_host_listings_count_entire_homes',\n",
       "       'calculated_host_listings_count_private_rooms',\n",
       "       'calculated_host_listings_count_shared_rooms', 'reviews_per_month',\n",
       "       'n_host_verifications'],\n",
       "      dtype='object')"
      ]
     },
     "execution_count": 5,
     "metadata": {},
     "output_type": "execute_result"
    }
   ],
   "source": [
    "df.columns"
   ]
  },
  {
   "cell_type": "markdown",
   "metadata": {},
   "source": [
    "## Part 2. One-Hot Encode Categorical Values\n"
   ]
  },
  {
   "cell_type": "markdown",
   "metadata": {},
   "source": [
    "Transform the string-valued categorical features into numerical boolean values using one-hot encoding."
   ]
  },
  {
   "cell_type": "markdown",
   "metadata": {},
   "source": [
    "### a. Find the Columns Containing String Values"
   ]
  },
  {
   "cell_type": "markdown",
   "metadata": {},
   "source": [
    "First, let us identify all features that need to be one-hot encoded:"
   ]
  },
  {
   "cell_type": "code",
   "execution_count": 6,
   "metadata": {},
   "outputs": [
    {
     "data": {
      "text/plain": [
       "host_response_rate                              float64\n",
       "host_acceptance_rate                            float64\n",
       "host_is_superhost                                  bool\n",
       "host_listings_count                             float64\n",
       "host_total_listings_count                       float64\n",
       "host_has_profile_pic                               bool\n",
       "host_identity_verified                             bool\n",
       "neighbourhood_group_cleansed                     object\n",
       "room_type                                        object\n",
       "accommodates                                      int64\n",
       "bathrooms                                       float64\n",
       "bedrooms                                        float64\n",
       "beds                                            float64\n",
       "amenities                                        object\n",
       "price                                           float64\n",
       "minimum_nights                                    int64\n",
       "maximum_nights                                    int64\n",
       "minimum_minimum_nights                          float64\n",
       "maximum_minimum_nights                          float64\n",
       "minimum_maximum_nights                          float64\n",
       "maximum_maximum_nights                          float64\n",
       "minimum_nights_avg_ntm                          float64\n",
       "maximum_nights_avg_ntm                          float64\n",
       "has_availability                                   bool\n",
       "availability_30                                   int64\n",
       "availability_60                                   int64\n",
       "availability_90                                   int64\n",
       "availability_365                                  int64\n",
       "number_of_reviews                                 int64\n",
       "number_of_reviews_ltm                             int64\n",
       "number_of_reviews_l30d                            int64\n",
       "review_scores_rating                            float64\n",
       "review_scores_cleanliness                       float64\n",
       "review_scores_checkin                           float64\n",
       "review_scores_communication                     float64\n",
       "review_scores_location                          float64\n",
       "review_scores_value                             float64\n",
       "instant_bookable                                   bool\n",
       "calculated_host_listings_count                    int64\n",
       "calculated_host_listings_count_entire_homes       int64\n",
       "calculated_host_listings_count_private_rooms      int64\n",
       "calculated_host_listings_count_shared_rooms       int64\n",
       "reviews_per_month                               float64\n",
       "n_host_verifications                              int64\n",
       "dtype: object"
      ]
     },
     "execution_count": 6,
     "metadata": {},
     "output_type": "execute_result"
    }
   ],
   "source": [
    "df.dtypes"
   ]
  },
  {
   "cell_type": "markdown",
   "metadata": {},
   "source": [
    "**Task**: add all of the column names of variables of type 'object' to a list named `to_encode`"
   ]
  },
  {
   "cell_type": "code",
   "execution_count": 7,
   "metadata": {},
   "outputs": [],
   "source": [
    "# YOUR CODE HERE\n",
    "to_encode = list(df.select_dtypes(include=['object']).columns)"
   ]
  },
  {
   "cell_type": "markdown",
   "metadata": {},
   "source": [
    "Let's take a closer look at the candidates for one-hot encoding"
   ]
  },
  {
   "cell_type": "code",
   "execution_count": 8,
   "metadata": {},
   "outputs": [
    {
     "data": {
      "text/plain": [
       "neighbourhood_group_cleansed        5\n",
       "room_type                           4\n",
       "amenities                       25020\n",
       "dtype: int64"
      ]
     },
     "execution_count": 8,
     "metadata": {},
     "output_type": "execute_result"
    }
   ],
   "source": [
    "df[to_encode].nunique()"
   ]
  },
  {
   "cell_type": "markdown",
   "metadata": {},
   "source": [
    "Notice that one column stands out as containing two many values for us to attempt to transform. For this exercise, the best choise is to simply remove this column. Of course, this means losing potentially useful information. In a real-life situation, you would want to retain all of the information in a column, or you could selectively keep information in.\n",
    "\n",
    "In the code cell below, drop this column from Dataframe `df` and from the `to_encode` list."
   ]
  },
  {
   "cell_type": "code",
   "execution_count": 9,
   "metadata": {},
   "outputs": [],
   "source": [
    "# YOUR SOLUTION HERE\n",
    "df.drop(columns = 'amenities', inplace=True)\n",
    "to_encode.remove('amenities')"
   ]
  },
  {
   "cell_type": "markdown",
   "metadata": {},
   "source": [
    "### b. One-Hot Encode all Unique Values"
   ]
  },
  {
   "cell_type": "markdown",
   "metadata": {},
   "source": [
    "All of the other columns in `to_encode` have reasonably small numbers of unique values, so we are going to simply one-hot encode every unique value of those columns."
   ]
  },
  {
   "cell_type": "markdown",
   "metadata": {},
   "source": [
    "<b>Task</b>: complete the code below to create one-hot encoded columns\n",
    "Tip: Use the sklearn `OneHotEncoder` class"
   ]
  },
  {
   "cell_type": "code",
   "execution_count": 10,
   "metadata": {},
   "outputs": [],
   "source": [
    "from sklearn.preprocessing import OneHotEncoder\n",
    "\n",
    "# Create the encoder:\n",
    "encoder = OneHotEncoder(handle_unknown=\"error\", sparse=False) # YOUR CODE HERE\n",
    "\n",
    "# Apply the encoder:\n",
    "df_enc = pd.DataFrame(encoder.fit_transform(df[to_encode])) # YOUR CODE HERE\n",
    "\n",
    "# Reinstate the original column names:\n",
    "df_enc.columns = encoder.get_feature_names(to_encode) # YOUR CODE HERE"
   ]
  },
  {
   "cell_type": "code",
   "execution_count": 11,
   "metadata": {},
   "outputs": [
    {
     "data": {
      "text/html": [
       "<div>\n",
       "<style scoped>\n",
       "    .dataframe tbody tr th:only-of-type {\n",
       "        vertical-align: middle;\n",
       "    }\n",
       "\n",
       "    .dataframe tbody tr th {\n",
       "        vertical-align: top;\n",
       "    }\n",
       "\n",
       "    .dataframe thead th {\n",
       "        text-align: right;\n",
       "    }\n",
       "</style>\n",
       "<table border=\"1\" class=\"dataframe\">\n",
       "  <thead>\n",
       "    <tr style=\"text-align: right;\">\n",
       "      <th></th>\n",
       "      <th>neighbourhood_group_cleansed_Bronx</th>\n",
       "      <th>neighbourhood_group_cleansed_Brooklyn</th>\n",
       "      <th>neighbourhood_group_cleansed_Manhattan</th>\n",
       "      <th>neighbourhood_group_cleansed_Queens</th>\n",
       "      <th>neighbourhood_group_cleansed_Staten Island</th>\n",
       "      <th>room_type_Entire home/apt</th>\n",
       "      <th>room_type_Hotel room</th>\n",
       "      <th>room_type_Private room</th>\n",
       "      <th>room_type_Shared room</th>\n",
       "    </tr>\n",
       "  </thead>\n",
       "  <tbody>\n",
       "    <tr>\n",
       "      <th>0</th>\n",
       "      <td>0.0</td>\n",
       "      <td>0.0</td>\n",
       "      <td>1.0</td>\n",
       "      <td>0.0</td>\n",
       "      <td>0.0</td>\n",
       "      <td>1.0</td>\n",
       "      <td>0.0</td>\n",
       "      <td>0.0</td>\n",
       "      <td>0.0</td>\n",
       "    </tr>\n",
       "    <tr>\n",
       "      <th>1</th>\n",
       "      <td>0.0</td>\n",
       "      <td>1.0</td>\n",
       "      <td>0.0</td>\n",
       "      <td>0.0</td>\n",
       "      <td>0.0</td>\n",
       "      <td>1.0</td>\n",
       "      <td>0.0</td>\n",
       "      <td>0.0</td>\n",
       "      <td>0.0</td>\n",
       "    </tr>\n",
       "    <tr>\n",
       "      <th>2</th>\n",
       "      <td>0.0</td>\n",
       "      <td>1.0</td>\n",
       "      <td>0.0</td>\n",
       "      <td>0.0</td>\n",
       "      <td>0.0</td>\n",
       "      <td>1.0</td>\n",
       "      <td>0.0</td>\n",
       "      <td>0.0</td>\n",
       "      <td>0.0</td>\n",
       "    </tr>\n",
       "    <tr>\n",
       "      <th>3</th>\n",
       "      <td>0.0</td>\n",
       "      <td>0.0</td>\n",
       "      <td>1.0</td>\n",
       "      <td>0.0</td>\n",
       "      <td>0.0</td>\n",
       "      <td>0.0</td>\n",
       "      <td>0.0</td>\n",
       "      <td>1.0</td>\n",
       "      <td>0.0</td>\n",
       "    </tr>\n",
       "    <tr>\n",
       "      <th>4</th>\n",
       "      <td>0.0</td>\n",
       "      <td>0.0</td>\n",
       "      <td>1.0</td>\n",
       "      <td>0.0</td>\n",
       "      <td>0.0</td>\n",
       "      <td>0.0</td>\n",
       "      <td>0.0</td>\n",
       "      <td>1.0</td>\n",
       "      <td>0.0</td>\n",
       "    </tr>\n",
       "  </tbody>\n",
       "</table>\n",
       "</div>"
      ],
      "text/plain": [
       "   neighbourhood_group_cleansed_Bronx  neighbourhood_group_cleansed_Brooklyn  \\\n",
       "0                                 0.0                                    0.0   \n",
       "1                                 0.0                                    1.0   \n",
       "2                                 0.0                                    1.0   \n",
       "3                                 0.0                                    0.0   \n",
       "4                                 0.0                                    0.0   \n",
       "\n",
       "   neighbourhood_group_cleansed_Manhattan  \\\n",
       "0                                     1.0   \n",
       "1                                     0.0   \n",
       "2                                     0.0   \n",
       "3                                     1.0   \n",
       "4                                     1.0   \n",
       "\n",
       "   neighbourhood_group_cleansed_Queens  \\\n",
       "0                                  0.0   \n",
       "1                                  0.0   \n",
       "2                                  0.0   \n",
       "3                                  0.0   \n",
       "4                                  0.0   \n",
       "\n",
       "   neighbourhood_group_cleansed_Staten Island  room_type_Entire home/apt  \\\n",
       "0                                         0.0                        1.0   \n",
       "1                                         0.0                        1.0   \n",
       "2                                         0.0                        1.0   \n",
       "3                                         0.0                        0.0   \n",
       "4                                         0.0                        0.0   \n",
       "\n",
       "   room_type_Hotel room  room_type_Private room  room_type_Shared room  \n",
       "0                   0.0                     0.0                    0.0  \n",
       "1                   0.0                     0.0                    0.0  \n",
       "2                   0.0                     0.0                    0.0  \n",
       "3                   0.0                     1.0                    0.0  \n",
       "4                   0.0                     1.0                    0.0  "
      ]
     },
     "execution_count": 11,
     "metadata": {},
     "output_type": "execute_result"
    }
   ],
   "source": [
    "df_enc.head()"
   ]
  },
  {
   "cell_type": "markdown",
   "metadata": {},
   "source": [
    "<b>Task</b>: You can now remove the original columns that we have just transformed from DataFrame `df`.\n"
   ]
  },
  {
   "cell_type": "code",
   "execution_count": 12,
   "metadata": {},
   "outputs": [],
   "source": [
    "# YOUR CODE HERE\n",
    "df.drop(columns = to_encode, inplace=True)"
   ]
  },
  {
   "cell_type": "code",
   "execution_count": 13,
   "metadata": {},
   "outputs": [
    {
     "data": {
      "text/html": [
       "<div>\n",
       "<style scoped>\n",
       "    .dataframe tbody tr th:only-of-type {\n",
       "        vertical-align: middle;\n",
       "    }\n",
       "\n",
       "    .dataframe tbody tr th {\n",
       "        vertical-align: top;\n",
       "    }\n",
       "\n",
       "    .dataframe thead th {\n",
       "        text-align: right;\n",
       "    }\n",
       "</style>\n",
       "<table border=\"1\" class=\"dataframe\">\n",
       "  <thead>\n",
       "    <tr style=\"text-align: right;\">\n",
       "      <th></th>\n",
       "      <th>host_response_rate</th>\n",
       "      <th>host_acceptance_rate</th>\n",
       "      <th>host_is_superhost</th>\n",
       "      <th>host_listings_count</th>\n",
       "      <th>host_total_listings_count</th>\n",
       "      <th>host_has_profile_pic</th>\n",
       "      <th>host_identity_verified</th>\n",
       "      <th>accommodates</th>\n",
       "      <th>bathrooms</th>\n",
       "      <th>bedrooms</th>\n",
       "      <th>...</th>\n",
       "      <th>review_scores_communication</th>\n",
       "      <th>review_scores_location</th>\n",
       "      <th>review_scores_value</th>\n",
       "      <th>instant_bookable</th>\n",
       "      <th>calculated_host_listings_count</th>\n",
       "      <th>calculated_host_listings_count_entire_homes</th>\n",
       "      <th>calculated_host_listings_count_private_rooms</th>\n",
       "      <th>calculated_host_listings_count_shared_rooms</th>\n",
       "      <th>reviews_per_month</th>\n",
       "      <th>n_host_verifications</th>\n",
       "    </tr>\n",
       "  </thead>\n",
       "  <tbody>\n",
       "    <tr>\n",
       "      <th>0</th>\n",
       "      <td>0.800000</td>\n",
       "      <td>0.170000</td>\n",
       "      <td>False</td>\n",
       "      <td>8.0</td>\n",
       "      <td>8.0</td>\n",
       "      <td>True</td>\n",
       "      <td>True</td>\n",
       "      <td>1</td>\n",
       "      <td>1.0</td>\n",
       "      <td>1.323567</td>\n",
       "      <td>...</td>\n",
       "      <td>4.79</td>\n",
       "      <td>4.86</td>\n",
       "      <td>4.41</td>\n",
       "      <td>False</td>\n",
       "      <td>3</td>\n",
       "      <td>3</td>\n",
       "      <td>0</td>\n",
       "      <td>0</td>\n",
       "      <td>0.33</td>\n",
       "      <td>9</td>\n",
       "    </tr>\n",
       "    <tr>\n",
       "      <th>1</th>\n",
       "      <td>0.090000</td>\n",
       "      <td>0.690000</td>\n",
       "      <td>False</td>\n",
       "      <td>1.0</td>\n",
       "      <td>1.0</td>\n",
       "      <td>True</td>\n",
       "      <td>True</td>\n",
       "      <td>3</td>\n",
       "      <td>1.0</td>\n",
       "      <td>1.000000</td>\n",
       "      <td>...</td>\n",
       "      <td>4.80</td>\n",
       "      <td>4.71</td>\n",
       "      <td>4.64</td>\n",
       "      <td>False</td>\n",
       "      <td>1</td>\n",
       "      <td>1</td>\n",
       "      <td>0</td>\n",
       "      <td>0</td>\n",
       "      <td>4.86</td>\n",
       "      <td>6</td>\n",
       "    </tr>\n",
       "    <tr>\n",
       "      <th>2</th>\n",
       "      <td>1.000000</td>\n",
       "      <td>0.250000</td>\n",
       "      <td>False</td>\n",
       "      <td>1.0</td>\n",
       "      <td>1.0</td>\n",
       "      <td>True</td>\n",
       "      <td>True</td>\n",
       "      <td>4</td>\n",
       "      <td>1.5</td>\n",
       "      <td>2.000000</td>\n",
       "      <td>...</td>\n",
       "      <td>5.00</td>\n",
       "      <td>4.50</td>\n",
       "      <td>5.00</td>\n",
       "      <td>False</td>\n",
       "      <td>1</td>\n",
       "      <td>1</td>\n",
       "      <td>0</td>\n",
       "      <td>0</td>\n",
       "      <td>0.02</td>\n",
       "      <td>3</td>\n",
       "    </tr>\n",
       "    <tr>\n",
       "      <th>3</th>\n",
       "      <td>1.000000</td>\n",
       "      <td>1.000000</td>\n",
       "      <td>False</td>\n",
       "      <td>1.0</td>\n",
       "      <td>1.0</td>\n",
       "      <td>True</td>\n",
       "      <td>False</td>\n",
       "      <td>2</td>\n",
       "      <td>1.0</td>\n",
       "      <td>1.000000</td>\n",
       "      <td>...</td>\n",
       "      <td>4.42</td>\n",
       "      <td>4.87</td>\n",
       "      <td>4.36</td>\n",
       "      <td>False</td>\n",
       "      <td>1</td>\n",
       "      <td>0</td>\n",
       "      <td>1</td>\n",
       "      <td>0</td>\n",
       "      <td>3.68</td>\n",
       "      <td>4</td>\n",
       "    </tr>\n",
       "    <tr>\n",
       "      <th>4</th>\n",
       "      <td>0.890731</td>\n",
       "      <td>0.768297</td>\n",
       "      <td>False</td>\n",
       "      <td>1.0</td>\n",
       "      <td>1.0</td>\n",
       "      <td>True</td>\n",
       "      <td>True</td>\n",
       "      <td>1</td>\n",
       "      <td>1.0</td>\n",
       "      <td>1.000000</td>\n",
       "      <td>...</td>\n",
       "      <td>4.95</td>\n",
       "      <td>4.94</td>\n",
       "      <td>4.92</td>\n",
       "      <td>False</td>\n",
       "      <td>1</td>\n",
       "      <td>0</td>\n",
       "      <td>1</td>\n",
       "      <td>0</td>\n",
       "      <td>0.87</td>\n",
       "      <td>7</td>\n",
       "    </tr>\n",
       "  </tbody>\n",
       "</table>\n",
       "<p>5 rows × 41 columns</p>\n",
       "</div>"
      ],
      "text/plain": [
       "   host_response_rate  host_acceptance_rate  host_is_superhost  \\\n",
       "0            0.800000              0.170000              False   \n",
       "1            0.090000              0.690000              False   \n",
       "2            1.000000              0.250000              False   \n",
       "3            1.000000              1.000000              False   \n",
       "4            0.890731              0.768297              False   \n",
       "\n",
       "   host_listings_count  host_total_listings_count  host_has_profile_pic  \\\n",
       "0                  8.0                        8.0                  True   \n",
       "1                  1.0                        1.0                  True   \n",
       "2                  1.0                        1.0                  True   \n",
       "3                  1.0                        1.0                  True   \n",
       "4                  1.0                        1.0                  True   \n",
       "\n",
       "   host_identity_verified  accommodates  bathrooms  bedrooms  ...  \\\n",
       "0                    True             1        1.0  1.323567  ...   \n",
       "1                    True             3        1.0  1.000000  ...   \n",
       "2                    True             4        1.5  2.000000  ...   \n",
       "3                   False             2        1.0  1.000000  ...   \n",
       "4                    True             1        1.0  1.000000  ...   \n",
       "\n",
       "   review_scores_communication  review_scores_location  review_scores_value  \\\n",
       "0                         4.79                    4.86                 4.41   \n",
       "1                         4.80                    4.71                 4.64   \n",
       "2                         5.00                    4.50                 5.00   \n",
       "3                         4.42                    4.87                 4.36   \n",
       "4                         4.95                    4.94                 4.92   \n",
       "\n",
       "   instant_bookable  calculated_host_listings_count  \\\n",
       "0             False                               3   \n",
       "1             False                               1   \n",
       "2             False                               1   \n",
       "3             False                               1   \n",
       "4             False                               1   \n",
       "\n",
       "   calculated_host_listings_count_entire_homes  \\\n",
       "0                                            3   \n",
       "1                                            1   \n",
       "2                                            1   \n",
       "3                                            0   \n",
       "4                                            0   \n",
       "\n",
       "   calculated_host_listings_count_private_rooms  \\\n",
       "0                                             0   \n",
       "1                                             0   \n",
       "2                                             0   \n",
       "3                                             1   \n",
       "4                                             1   \n",
       "\n",
       "   calculated_host_listings_count_shared_rooms  reviews_per_month  \\\n",
       "0                                            0               0.33   \n",
       "1                                            0               4.86   \n",
       "2                                            0               0.02   \n",
       "3                                            0               3.68   \n",
       "4                                            0               0.87   \n",
       "\n",
       "   n_host_verifications  \n",
       "0                     9  \n",
       "1                     6  \n",
       "2                     3  \n",
       "3                     4  \n",
       "4                     7  \n",
       "\n",
       "[5 rows x 41 columns]"
      ]
     },
     "execution_count": 13,
     "metadata": {},
     "output_type": "execute_result"
    }
   ],
   "source": [
    "df.head()"
   ]
  },
  {
   "cell_type": "markdown",
   "metadata": {},
   "source": [
    "<b>Task</b>: You can now join the transformed categorical features contained in `df_enc` with DataFrame `df`"
   ]
  },
  {
   "cell_type": "code",
   "execution_count": 14,
   "metadata": {},
   "outputs": [],
   "source": [
    "# YOUR CODE HERE\n",
    "df = df.join(df_enc)"
   ]
  },
  {
   "cell_type": "markdown",
   "metadata": {},
   "source": [
    "Glance at the resulting column names:"
   ]
  },
  {
   "cell_type": "code",
   "execution_count": 15,
   "metadata": {},
   "outputs": [
    {
     "data": {
      "text/plain": [
       "Index(['host_response_rate', 'host_acceptance_rate', 'host_is_superhost',\n",
       "       'host_listings_count', 'host_total_listings_count',\n",
       "       'host_has_profile_pic', 'host_identity_verified', 'accommodates',\n",
       "       'bathrooms', 'bedrooms', 'beds', 'price', 'minimum_nights',\n",
       "       'maximum_nights', 'minimum_minimum_nights', 'maximum_minimum_nights',\n",
       "       'minimum_maximum_nights', 'maximum_maximum_nights',\n",
       "       'minimum_nights_avg_ntm', 'maximum_nights_avg_ntm', 'has_availability',\n",
       "       'availability_30', 'availability_60', 'availability_90',\n",
       "       'availability_365', 'number_of_reviews', 'number_of_reviews_ltm',\n",
       "       'number_of_reviews_l30d', 'review_scores_rating',\n",
       "       'review_scores_cleanliness', 'review_scores_checkin',\n",
       "       'review_scores_communication', 'review_scores_location',\n",
       "       'review_scores_value', 'instant_bookable',\n",
       "       'calculated_host_listings_count',\n",
       "       'calculated_host_listings_count_entire_homes',\n",
       "       'calculated_host_listings_count_private_rooms',\n",
       "       'calculated_host_listings_count_shared_rooms', 'reviews_per_month',\n",
       "       'n_host_verifications', 'neighbourhood_group_cleansed_Bronx',\n",
       "       'neighbourhood_group_cleansed_Brooklyn',\n",
       "       'neighbourhood_group_cleansed_Manhattan',\n",
       "       'neighbourhood_group_cleansed_Queens',\n",
       "       'neighbourhood_group_cleansed_Staten Island',\n",
       "       'room_type_Entire home/apt', 'room_type_Hotel room',\n",
       "       'room_type_Private room', 'room_type_Shared room'],\n",
       "      dtype='object')"
      ]
     },
     "execution_count": 15,
     "metadata": {},
     "output_type": "execute_result"
    }
   ],
   "source": [
    "df.columns"
   ]
  },
  {
   "cell_type": "markdown",
   "metadata": {},
   "source": [
    "Check for missing values."
   ]
  },
  {
   "cell_type": "code",
   "execution_count": 16,
   "metadata": {
    "scrolled": true
   },
   "outputs": [
    {
     "data": {
      "text/html": [
       "<div>\n",
       "<style scoped>\n",
       "    .dataframe tbody tr th:only-of-type {\n",
       "        vertical-align: middle;\n",
       "    }\n",
       "\n",
       "    .dataframe tbody tr th {\n",
       "        vertical-align: top;\n",
       "    }\n",
       "\n",
       "    .dataframe thead th {\n",
       "        text-align: right;\n",
       "    }\n",
       "</style>\n",
       "<table border=\"1\" class=\"dataframe\">\n",
       "  <thead>\n",
       "    <tr style=\"text-align: right;\">\n",
       "      <th></th>\n",
       "      <th>host_response_rate</th>\n",
       "      <th>host_acceptance_rate</th>\n",
       "      <th>host_is_superhost</th>\n",
       "      <th>host_listings_count</th>\n",
       "      <th>host_total_listings_count</th>\n",
       "      <th>host_has_profile_pic</th>\n",
       "      <th>host_identity_verified</th>\n",
       "      <th>accommodates</th>\n",
       "      <th>bathrooms</th>\n",
       "      <th>bedrooms</th>\n",
       "      <th>...</th>\n",
       "      <th>n_host_verifications</th>\n",
       "      <th>neighbourhood_group_cleansed_Bronx</th>\n",
       "      <th>neighbourhood_group_cleansed_Brooklyn</th>\n",
       "      <th>neighbourhood_group_cleansed_Manhattan</th>\n",
       "      <th>neighbourhood_group_cleansed_Queens</th>\n",
       "      <th>neighbourhood_group_cleansed_Staten Island</th>\n",
       "      <th>room_type_Entire home/apt</th>\n",
       "      <th>room_type_Hotel room</th>\n",
       "      <th>room_type_Private room</th>\n",
       "      <th>room_type_Shared room</th>\n",
       "    </tr>\n",
       "  </thead>\n",
       "  <tbody>\n",
       "    <tr>\n",
       "      <th>0</th>\n",
       "      <td>False</td>\n",
       "      <td>False</td>\n",
       "      <td>False</td>\n",
       "      <td>False</td>\n",
       "      <td>False</td>\n",
       "      <td>False</td>\n",
       "      <td>False</td>\n",
       "      <td>False</td>\n",
       "      <td>False</td>\n",
       "      <td>False</td>\n",
       "      <td>...</td>\n",
       "      <td>False</td>\n",
       "      <td>False</td>\n",
       "      <td>False</td>\n",
       "      <td>False</td>\n",
       "      <td>False</td>\n",
       "      <td>False</td>\n",
       "      <td>False</td>\n",
       "      <td>False</td>\n",
       "      <td>False</td>\n",
       "      <td>False</td>\n",
       "    </tr>\n",
       "    <tr>\n",
       "      <th>1</th>\n",
       "      <td>False</td>\n",
       "      <td>False</td>\n",
       "      <td>False</td>\n",
       "      <td>False</td>\n",
       "      <td>False</td>\n",
       "      <td>False</td>\n",
       "      <td>False</td>\n",
       "      <td>False</td>\n",
       "      <td>False</td>\n",
       "      <td>False</td>\n",
       "      <td>...</td>\n",
       "      <td>False</td>\n",
       "      <td>False</td>\n",
       "      <td>False</td>\n",
       "      <td>False</td>\n",
       "      <td>False</td>\n",
       "      <td>False</td>\n",
       "      <td>False</td>\n",
       "      <td>False</td>\n",
       "      <td>False</td>\n",
       "      <td>False</td>\n",
       "    </tr>\n",
       "    <tr>\n",
       "      <th>2</th>\n",
       "      <td>False</td>\n",
       "      <td>False</td>\n",
       "      <td>False</td>\n",
       "      <td>False</td>\n",
       "      <td>False</td>\n",
       "      <td>False</td>\n",
       "      <td>False</td>\n",
       "      <td>False</td>\n",
       "      <td>False</td>\n",
       "      <td>False</td>\n",
       "      <td>...</td>\n",
       "      <td>False</td>\n",
       "      <td>False</td>\n",
       "      <td>False</td>\n",
       "      <td>False</td>\n",
       "      <td>False</td>\n",
       "      <td>False</td>\n",
       "      <td>False</td>\n",
       "      <td>False</td>\n",
       "      <td>False</td>\n",
       "      <td>False</td>\n",
       "    </tr>\n",
       "    <tr>\n",
       "      <th>3</th>\n",
       "      <td>False</td>\n",
       "      <td>False</td>\n",
       "      <td>False</td>\n",
       "      <td>False</td>\n",
       "      <td>False</td>\n",
       "      <td>False</td>\n",
       "      <td>False</td>\n",
       "      <td>False</td>\n",
       "      <td>False</td>\n",
       "      <td>False</td>\n",
       "      <td>...</td>\n",
       "      <td>False</td>\n",
       "      <td>False</td>\n",
       "      <td>False</td>\n",
       "      <td>False</td>\n",
       "      <td>False</td>\n",
       "      <td>False</td>\n",
       "      <td>False</td>\n",
       "      <td>False</td>\n",
       "      <td>False</td>\n",
       "      <td>False</td>\n",
       "    </tr>\n",
       "    <tr>\n",
       "      <th>4</th>\n",
       "      <td>False</td>\n",
       "      <td>False</td>\n",
       "      <td>False</td>\n",
       "      <td>False</td>\n",
       "      <td>False</td>\n",
       "      <td>False</td>\n",
       "      <td>False</td>\n",
       "      <td>False</td>\n",
       "      <td>False</td>\n",
       "      <td>False</td>\n",
       "      <td>...</td>\n",
       "      <td>False</td>\n",
       "      <td>False</td>\n",
       "      <td>False</td>\n",
       "      <td>False</td>\n",
       "      <td>False</td>\n",
       "      <td>False</td>\n",
       "      <td>False</td>\n",
       "      <td>False</td>\n",
       "      <td>False</td>\n",
       "      <td>False</td>\n",
       "    </tr>\n",
       "    <tr>\n",
       "      <th>...</th>\n",
       "      <td>...</td>\n",
       "      <td>...</td>\n",
       "      <td>...</td>\n",
       "      <td>...</td>\n",
       "      <td>...</td>\n",
       "      <td>...</td>\n",
       "      <td>...</td>\n",
       "      <td>...</td>\n",
       "      <td>...</td>\n",
       "      <td>...</td>\n",
       "      <td>...</td>\n",
       "      <td>...</td>\n",
       "      <td>...</td>\n",
       "      <td>...</td>\n",
       "      <td>...</td>\n",
       "      <td>...</td>\n",
       "      <td>...</td>\n",
       "      <td>...</td>\n",
       "      <td>...</td>\n",
       "      <td>...</td>\n",
       "      <td>...</td>\n",
       "    </tr>\n",
       "    <tr>\n",
       "      <th>28017</th>\n",
       "      <td>False</td>\n",
       "      <td>False</td>\n",
       "      <td>False</td>\n",
       "      <td>False</td>\n",
       "      <td>False</td>\n",
       "      <td>False</td>\n",
       "      <td>False</td>\n",
       "      <td>False</td>\n",
       "      <td>False</td>\n",
       "      <td>False</td>\n",
       "      <td>...</td>\n",
       "      <td>False</td>\n",
       "      <td>False</td>\n",
       "      <td>False</td>\n",
       "      <td>False</td>\n",
       "      <td>False</td>\n",
       "      <td>False</td>\n",
       "      <td>False</td>\n",
       "      <td>False</td>\n",
       "      <td>False</td>\n",
       "      <td>False</td>\n",
       "    </tr>\n",
       "    <tr>\n",
       "      <th>28018</th>\n",
       "      <td>False</td>\n",
       "      <td>False</td>\n",
       "      <td>False</td>\n",
       "      <td>False</td>\n",
       "      <td>False</td>\n",
       "      <td>False</td>\n",
       "      <td>False</td>\n",
       "      <td>False</td>\n",
       "      <td>False</td>\n",
       "      <td>False</td>\n",
       "      <td>...</td>\n",
       "      <td>False</td>\n",
       "      <td>False</td>\n",
       "      <td>False</td>\n",
       "      <td>False</td>\n",
       "      <td>False</td>\n",
       "      <td>False</td>\n",
       "      <td>False</td>\n",
       "      <td>False</td>\n",
       "      <td>False</td>\n",
       "      <td>False</td>\n",
       "    </tr>\n",
       "    <tr>\n",
       "      <th>28019</th>\n",
       "      <td>False</td>\n",
       "      <td>False</td>\n",
       "      <td>False</td>\n",
       "      <td>False</td>\n",
       "      <td>False</td>\n",
       "      <td>False</td>\n",
       "      <td>False</td>\n",
       "      <td>False</td>\n",
       "      <td>False</td>\n",
       "      <td>False</td>\n",
       "      <td>...</td>\n",
       "      <td>False</td>\n",
       "      <td>False</td>\n",
       "      <td>False</td>\n",
       "      <td>False</td>\n",
       "      <td>False</td>\n",
       "      <td>False</td>\n",
       "      <td>False</td>\n",
       "      <td>False</td>\n",
       "      <td>False</td>\n",
       "      <td>False</td>\n",
       "    </tr>\n",
       "    <tr>\n",
       "      <th>28020</th>\n",
       "      <td>False</td>\n",
       "      <td>False</td>\n",
       "      <td>False</td>\n",
       "      <td>False</td>\n",
       "      <td>False</td>\n",
       "      <td>False</td>\n",
       "      <td>False</td>\n",
       "      <td>False</td>\n",
       "      <td>False</td>\n",
       "      <td>False</td>\n",
       "      <td>...</td>\n",
       "      <td>False</td>\n",
       "      <td>False</td>\n",
       "      <td>False</td>\n",
       "      <td>False</td>\n",
       "      <td>False</td>\n",
       "      <td>False</td>\n",
       "      <td>False</td>\n",
       "      <td>False</td>\n",
       "      <td>False</td>\n",
       "      <td>False</td>\n",
       "    </tr>\n",
       "    <tr>\n",
       "      <th>28021</th>\n",
       "      <td>False</td>\n",
       "      <td>False</td>\n",
       "      <td>False</td>\n",
       "      <td>False</td>\n",
       "      <td>False</td>\n",
       "      <td>False</td>\n",
       "      <td>False</td>\n",
       "      <td>False</td>\n",
       "      <td>False</td>\n",
       "      <td>False</td>\n",
       "      <td>...</td>\n",
       "      <td>False</td>\n",
       "      <td>False</td>\n",
       "      <td>False</td>\n",
       "      <td>False</td>\n",
       "      <td>False</td>\n",
       "      <td>False</td>\n",
       "      <td>False</td>\n",
       "      <td>False</td>\n",
       "      <td>False</td>\n",
       "      <td>False</td>\n",
       "    </tr>\n",
       "  </tbody>\n",
       "</table>\n",
       "<p>28022 rows × 50 columns</p>\n",
       "</div>"
      ],
      "text/plain": [
       "       host_response_rate  host_acceptance_rate  host_is_superhost  \\\n",
       "0                   False                 False              False   \n",
       "1                   False                 False              False   \n",
       "2                   False                 False              False   \n",
       "3                   False                 False              False   \n",
       "4                   False                 False              False   \n",
       "...                   ...                   ...                ...   \n",
       "28017               False                 False              False   \n",
       "28018               False                 False              False   \n",
       "28019               False                 False              False   \n",
       "28020               False                 False              False   \n",
       "28021               False                 False              False   \n",
       "\n",
       "       host_listings_count  host_total_listings_count  host_has_profile_pic  \\\n",
       "0                    False                      False                 False   \n",
       "1                    False                      False                 False   \n",
       "2                    False                      False                 False   \n",
       "3                    False                      False                 False   \n",
       "4                    False                      False                 False   \n",
       "...                    ...                        ...                   ...   \n",
       "28017                False                      False                 False   \n",
       "28018                False                      False                 False   \n",
       "28019                False                      False                 False   \n",
       "28020                False                      False                 False   \n",
       "28021                False                      False                 False   \n",
       "\n",
       "       host_identity_verified  accommodates  bathrooms  bedrooms  ...  \\\n",
       "0                       False         False      False     False  ...   \n",
       "1                       False         False      False     False  ...   \n",
       "2                       False         False      False     False  ...   \n",
       "3                       False         False      False     False  ...   \n",
       "4                       False         False      False     False  ...   \n",
       "...                       ...           ...        ...       ...  ...   \n",
       "28017                   False         False      False     False  ...   \n",
       "28018                   False         False      False     False  ...   \n",
       "28019                   False         False      False     False  ...   \n",
       "28020                   False         False      False     False  ...   \n",
       "28021                   False         False      False     False  ...   \n",
       "\n",
       "       n_host_verifications  neighbourhood_group_cleansed_Bronx  \\\n",
       "0                     False                               False   \n",
       "1                     False                               False   \n",
       "2                     False                               False   \n",
       "3                     False                               False   \n",
       "4                     False                               False   \n",
       "...                     ...                                 ...   \n",
       "28017                 False                               False   \n",
       "28018                 False                               False   \n",
       "28019                 False                               False   \n",
       "28020                 False                               False   \n",
       "28021                 False                               False   \n",
       "\n",
       "       neighbourhood_group_cleansed_Brooklyn  \\\n",
       "0                                      False   \n",
       "1                                      False   \n",
       "2                                      False   \n",
       "3                                      False   \n",
       "4                                      False   \n",
       "...                                      ...   \n",
       "28017                                  False   \n",
       "28018                                  False   \n",
       "28019                                  False   \n",
       "28020                                  False   \n",
       "28021                                  False   \n",
       "\n",
       "       neighbourhood_group_cleansed_Manhattan  \\\n",
       "0                                       False   \n",
       "1                                       False   \n",
       "2                                       False   \n",
       "3                                       False   \n",
       "4                                       False   \n",
       "...                                       ...   \n",
       "28017                                   False   \n",
       "28018                                   False   \n",
       "28019                                   False   \n",
       "28020                                   False   \n",
       "28021                                   False   \n",
       "\n",
       "       neighbourhood_group_cleansed_Queens  \\\n",
       "0                                    False   \n",
       "1                                    False   \n",
       "2                                    False   \n",
       "3                                    False   \n",
       "4                                    False   \n",
       "...                                    ...   \n",
       "28017                                False   \n",
       "28018                                False   \n",
       "28019                                False   \n",
       "28020                                False   \n",
       "28021                                False   \n",
       "\n",
       "       neighbourhood_group_cleansed_Staten Island  room_type_Entire home/apt  \\\n",
       "0                                           False                      False   \n",
       "1                                           False                      False   \n",
       "2                                           False                      False   \n",
       "3                                           False                      False   \n",
       "4                                           False                      False   \n",
       "...                                           ...                        ...   \n",
       "28017                                       False                      False   \n",
       "28018                                       False                      False   \n",
       "28019                                       False                      False   \n",
       "28020                                       False                      False   \n",
       "28021                                       False                      False   \n",
       "\n",
       "       room_type_Hotel room  room_type_Private room  room_type_Shared room  \n",
       "0                     False                   False                  False  \n",
       "1                     False                   False                  False  \n",
       "2                     False                   False                  False  \n",
       "3                     False                   False                  False  \n",
       "4                     False                   False                  False  \n",
       "...                     ...                     ...                    ...  \n",
       "28017                 False                   False                  False  \n",
       "28018                 False                   False                  False  \n",
       "28019                 False                   False                  False  \n",
       "28020                 False                   False                  False  \n",
       "28021                 False                   False                  False  \n",
       "\n",
       "[28022 rows x 50 columns]"
      ]
     },
     "execution_count": 16,
     "metadata": {},
     "output_type": "execute_result"
    }
   ],
   "source": [
    "# YOUR CODE HERE\n",
    "df.isnull()"
   ]
  },
  {
   "cell_type": "markdown",
   "metadata": {},
   "source": [
    "## Part 3. Create Training and Test Data Sets"
   ]
  },
  {
   "cell_type": "markdown",
   "metadata": {},
   "source": [
    "### a. Create Labeled Examples "
   ]
  },
  {
   "cell_type": "markdown",
   "metadata": {},
   "source": [
    "<b>Task</b>: Choose columns from our data set to create labeled examples. \n",
    "\n",
    "In the `airbnb` dataset, we will choose column `host_is_superhost` to be the label. The remaining columns will be the features.\n",
    "\n",
    "Obtain the features from DataFrame `df` and assign to `X`.\n",
    "Obtain the label from DataFrame `df` and assign to `Y`\n"
   ]
  },
  {
   "cell_type": "code",
   "execution_count": 17,
   "metadata": {},
   "outputs": [],
   "source": [
    "# YOUR CODE HERE\n",
    "y = df['host_is_superhost']\n",
    "X = df.drop(columns = 'host_is_superhost', axis=1)"
   ]
  },
  {
   "cell_type": "code",
   "execution_count": 18,
   "metadata": {},
   "outputs": [
    {
     "name": "stdout",
     "output_type": "stream",
     "text": [
      "Number of examples: 28022\n",
      "\n",
      "Number of Features:49\n",
      "['host_response_rate', 'host_acceptance_rate', 'host_listings_count', 'host_total_listings_count', 'host_has_profile_pic', 'host_identity_verified', 'accommodates', 'bathrooms', 'bedrooms', 'beds', 'price', 'minimum_nights', 'maximum_nights', 'minimum_minimum_nights', 'maximum_minimum_nights', 'minimum_maximum_nights', 'maximum_maximum_nights', 'minimum_nights_avg_ntm', 'maximum_nights_avg_ntm', 'has_availability', 'availability_30', 'availability_60', 'availability_90', 'availability_365', 'number_of_reviews', 'number_of_reviews_ltm', 'number_of_reviews_l30d', 'review_scores_rating', 'review_scores_cleanliness', 'review_scores_checkin', 'review_scores_communication', 'review_scores_location', 'review_scores_value', 'instant_bookable', 'calculated_host_listings_count', 'calculated_host_listings_count_entire_homes', 'calculated_host_listings_count_private_rooms', 'calculated_host_listings_count_shared_rooms', 'reviews_per_month', 'n_host_verifications', 'neighbourhood_group_cleansed_Bronx', 'neighbourhood_group_cleansed_Brooklyn', 'neighbourhood_group_cleansed_Manhattan', 'neighbourhood_group_cleansed_Queens', 'neighbourhood_group_cleansed_Staten Island', 'room_type_Entire home/apt', 'room_type_Hotel room', 'room_type_Private room', 'room_type_Shared room']\n"
     ]
    }
   ],
   "source": [
    "print(\"Number of examples: \" + str(X.shape[0]))\n",
    "print(\"\\nNumber of Features:\" + str(X.shape[1]))\n",
    "print(str(list(X.columns)))"
   ]
  },
  {
   "cell_type": "markdown",
   "metadata": {},
   "source": [
    "### b. Split Examples into Training and Test Sets"
   ]
  },
  {
   "cell_type": "markdown",
   "metadata": {},
   "source": [
    "<b>Task</b>: In the code cell below create training and test sets out of the labeled examples using Scikit-learn's `train_test_split()` function. \n",
    "\n",
    "Specify:\n",
    "    * A test set that is one third (.33) of the size of the data set.\n",
    "    * A seed value of '123'. "
   ]
  },
  {
   "cell_type": "code",
   "execution_count": 19,
   "metadata": {},
   "outputs": [],
   "source": [
    "# YOUR CODE HERE\n",
    "X_train, X_test, y_train, y_test = train_test_split(X, y, test_size=0.33, random_state=123)"
   ]
  },
  {
   "cell_type": "markdown",
   "metadata": {},
   "source": [
    "Check that the dimensions of the training and test datasets are what you expected"
   ]
  },
  {
   "cell_type": "code",
   "execution_count": 20,
   "metadata": {},
   "outputs": [
    {
     "name": "stdout",
     "output_type": "stream",
     "text": [
      "(18774, 49)\n",
      "(9248, 49)\n"
     ]
    }
   ],
   "source": [
    "print(X_train.shape)\n",
    "print(X_test.shape)"
   ]
  },
  {
   "cell_type": "markdown",
   "metadata": {},
   "source": [
    "## Part 4. Implement a Decision Tree Classifier"
   ]
  },
  {
   "cell_type": "markdown",
   "metadata": {},
   "source": [
    "The code cell below contains a shell of a function named `train_test_DT()`. This function should train a Decision Tree classifier on the training data, test the resulting model on the test data, and compute and return the accuracy score of the resulting predicted class labels on the test data. Remember to use ```DecisionTreeClassifier()``` to create a model object.\n",
    "\n",
    "<b>Task:</b> Complete the function to make it work."
   ]
  },
  {
   "cell_type": "code",
   "execution_count": 21,
   "metadata": {},
   "outputs": [],
   "source": [
    "def train_test_DT(X_train, X_test, y_train, y_test, leaf, depth, crit='entropy'):\n",
    "    '''\n",
    "    Fit a Decision Tree classifier to the training data X_train, y_train.\n",
    "    Return the accuracy of resulting predictions on the test set.\n",
    "    Parameters:\n",
    "        leaf := The minimum number of samples required to be at a leaf node \n",
    "        depth := The maximum depth of the tree\n",
    "        crit := The function to be used to measure the quality of a split. Default: gini.\n",
    "    '''\n",
    "    \n",
    "      # YOUR CODE HERE\n",
    "    model = DecisionTreeClassifier(criterion = crit, max_depth = depth, min_samples_leaf = leaf)\n",
    "    model.fit(X_train, y_train)\n",
    "    class_label_predictions = model.predict(X_test)\n",
    "    acc_score = accuracy_score(y_test, class_label_predictions)\n",
    "    \n",
    "    return acc_score"
   ]
  },
  {
   "cell_type": "markdown",
   "metadata": {},
   "source": [
    "#### Visualization"
   ]
  },
  {
   "cell_type": "markdown",
   "metadata": {},
   "source": [
    "The cell below contains a function that you will use to compare the accuracy results of training multiple models with different hyperparameter values.\n",
    "\n",
    "Function `visualize_accuracy()` accepts two arguments:\n",
    "1. a list of hyperparamter values\n",
    "2. a list of accuracy scores\n",
    "\n",
    "Both lists must be of the same size."
   ]
  },
  {
   "cell_type": "code",
   "execution_count": 23,
   "metadata": {
    "scrolled": true
   },
   "outputs": [],
   "source": [
    "# Do not remove or edit the code below\n",
    "\n",
    "def visualize_accuracy(hyperparam_range, acc):\n",
    "\n",
    "    fig = plt.figure()\n",
    "    ax = fig.add_subplot(111)\n",
    "    p = sns.lineplot(x=hyperparam_range, y=acc, marker='o', label = 'Full training set')\n",
    "        \n",
    "    plt.title('Test set accuracy of the model predictions, for ' + ','.join([str(h) for h in hyperparam_range]))\n",
    "    ax.set_xlabel('Hyperparameter value')\n",
    "    ax.set_ylabel('Accuracy')\n",
    "    plt.show()"
   ]
  },
  {
   "cell_type": "markdown",
   "metadata": {},
   "source": [
    "#### Train on Different Values of Hyperparameter Max Depth"
   ]
  },
  {
   "cell_type": "markdown",
   "metadata": {},
   "source": [
    "<b>Task:</b> \n",
    "\n",
    "Complete function `train_multiple_trees()` in the code cell below. The function should train multiple decision trees and return a list of accuracy scores.\n",
    "\n",
    "The function will:\n",
    "\n",
    "1. accept list `max_depth_range` and `leaf` as parameters; list `max_depth_range` will contain multiple values for hyperparameter max depth.\n",
    "\n",
    "2. loop over list `max_depth_range` and at each iteration:\n",
    "\n",
    "    a. index into list `max_depth_range` to obtain a value for max depth<br>\n",
    "    b. call `train_test_DT` with the training and test set, the value of max depth, and the value of `leaf`<br>\n",
    "    c. print the resulting accuracy score<br>\n",
    "    d. append the accuracy score to list `accuracy_list`<br>\n"
   ]
  },
  {
   "cell_type": "code",
   "execution_count": 24,
   "metadata": {},
   "outputs": [],
   "source": [
    "def train_multiple_trees(max_depth_range, leaf):\n",
    "    \n",
    "    accuracy_list = []\n",
    "\n",
    "    # YOUR CODE HERE\n",
    "    for i in max_depth_range:\n",
    "        score = train_test_DT(X_train, X_test, y_train, y_test, leaf, i)\n",
    "        print('Max Depth=' + str(i) + ', accuracy score: ' + str(score))\n",
    "        accuracy_list.append(float(score))\n",
    "    \n",
    "    return accuracy_list"
   ]
  },
  {
   "cell_type": "markdown",
   "metadata": {},
   "source": [
    "The code cell below tests function `train_multiple_trees()` and calls function `visualize_accuracy()` to visualize the results."
   ]
  },
  {
   "cell_type": "code",
   "execution_count": 25,
   "metadata": {},
   "outputs": [
    {
     "name": "stdout",
     "output_type": "stream",
     "text": [
      "Max Depth=8, accuracy score: 0.8333693771626297\n",
      "Max Depth=32, accuracy score: 0.8043901384083045\n"
     ]
    },
    {
     "data": {
      "image/png": "[encoded data removed]",
      "text/plain": [
       "<Figure size 432x288 with 1 Axes>"
      ]
     },
     "metadata": {
      "needs_background": "light"
     },
     "output_type": "display_data"
    }
   ],
   "source": [
    "max_depth_range = [8, 32]\n",
    "leaf = 1\n",
    "\n",
    "acc = train_multiple_trees(max_depth_range, leaf)\n",
    "\n",
    "visualize_accuracy(max_depth_range, acc)"
   ]
  },
  {
   "cell_type": "markdown",
   "metadata": {},
   "source": [
    "<b>Analysis</b>: Is this graph conclusive for determining a good value of max depth?"
   ]
  },
  {
   "cell_type": "markdown",
   "metadata": {},
   "source": [
    "<Double click this Markdown cell to make it editable, and record your findings here.>"
   ]
  },
  {
   "cell_type": "markdown",
   "metadata": {},
   "source": [
    "<b>Task:</b> Let's train on more values for max depth.\n",
    "\n",
    "In the code cell below:\n",
    "\n",
    "1. call `train_multiple_trees()` with arguments `max_depth_range` and `leaf`\n",
    "2. call `visualize_accuracy()` with arguments `max_depth_range` and `acc`\n"
   ]
  },
  {
   "cell_type": "code",
   "execution_count": 26,
   "metadata": {},
   "outputs": [
    {
     "name": "stdout",
     "output_type": "stream",
     "text": [
      "Max Depth=1, accuracy score: 0.7563797577854672\n",
      "Max Depth=2, accuracy score: 0.7563797577854672\n",
      "Max Depth=4, accuracy score: 0.810878027681661\n",
      "Max Depth=8, accuracy score: 0.8331531141868512\n",
      "Max Depth=16, accuracy score: 0.8133650519031141\n",
      "Max Depth=32, accuracy score: 0.804606401384083\n"
     ]
    },
    {
     "data": {
      "image/png": "[encoded data removed]",
      "text/plain": [
       "<Figure size 432x288 with 1 Axes>"
      ]
     },
     "metadata": {
      "needs_background": "light"
     },
     "output_type": "display_data"
    }
   ],
   "source": [
    "max_depth_range = [2**i for i in range(6)]\n",
    "leaf = 1\n",
    "acc = train_multiple_trees(max_depth_range, leaf) # call train_multiple_trees() here\n",
    "        \n",
    "visualize_accuracy(max_depth_range, acc) # call visualize_accuracy() here  "
   ]
  },
  {
   "cell_type": "markdown",
   "metadata": {},
   "source": [
    "<b>Analysis</b>: Analyze this graph. Keep in mind that this is the performance on the test set, and pay attention to the scale of the y-axis. Answer the following questions in the cell below.<br>\n",
    "How would you go about choosing the best model based on this plot? Is it conclusive? <br>\n",
    "How would you establish whether your model, for a given value of `max_depth`, is overfitting to the data? <br>\n",
    "What other hyperparameters of interest would you want to vary to make sure you are finding the best model fit?"
   ]
  },
  {
   "cell_type": "markdown",
   "metadata": {},
   "source": [
    "<Double click this Markdown cell to make it editable, and record your answers here.>"
   ]
  },
  {
   "cell_type": "markdown",
   "metadata": {},
   "source": [
    "## Part 5. Implement a KNN Classifier\n"
   ]
  },
  {
   "cell_type": "markdown",
   "metadata": {},
   "source": [
    "Note: In this section you will train KNN Classifiers using the same training and test data."
   ]
  },
  {
   "cell_type": "markdown",
   "metadata": {},
   "source": [
    "The code cell below contains a shell of a function named `train_test_knn()`. This function should train a KNN classifier on the training data, test the resulting model on the test data, and compute and return the accuracy score of the resulting predicted class labels on the test data. \n",
    "\n",
    "Remember to use ```KNeighborsClassifier()``` to create a model object and call the method with one parameter: `n_neighbors = k`. \n",
    "\n",
    "<b>Task:</b> Complete the function to make it work."
   ]
  },
  {
   "cell_type": "code",
   "execution_count": 28,
   "metadata": {},
   "outputs": [],
   "source": [
    "def train_test_knn(X_train, X_test, y_train, y_test, k):\n",
    "    '''\n",
    "    Fit a k Nearest Neighbors classifier to the training data X_train, y_train.\n",
    "    Return the accuracy of resulting predictions on the test data.\n",
    "    '''\n",
    "    \n",
    "    # YOUR CODE HERE\n",
    "    model = KNeighborsClassifier(n_neighbors = k)\n",
    "    model.fit(X_train, y_train)\n",
    "    class_label_predictions = model.predict(X_test)\n",
    "    acc_score = accuracy_score(y_test, class_label_predictions)\n",
    "    \n",
    "    return acc_score"
   ]
  },
  {
   "cell_type": "markdown",
   "metadata": {},
   "source": [
    "#### Train on Different Values of Hyperparameter K\n",
    "\n",
    "<b>Task:</b> \n",
    "\n",
    "Just as you did above, complete function `train_multiple_knns()` in the code cell below. The function should train multiple KNN models and return a list of accuracy scores.\n",
    "\n",
    "The function will:\n",
    "\n",
    "1. accept list `k_range` as a parameter; this list will contain multiple values for hyperparameter $k$\n",
    "\n",
    "2. loop over list `k_range` and at each iteration:\n",
    "\n",
    "    a. index into list `k_range` to obtain a value for $k$<br>\n",
    "    b. call `train_test_knn` with the training and test set, and the value of $k$<br>\n",
    "    c. print the resulting accuracy score<br>\n",
    "    d. append the accuracy score to list `accuracy_list` <br>\n"
   ]
  },
  {
   "cell_type": "code",
   "execution_count": 29,
   "metadata": {},
   "outputs": [],
   "source": [
    "def train_multiple_knns(k_range):\n",
    "    \n",
    "    accuracy_list = []\n",
    "\n",
    "    # YOUR CODE HERE\n",
    "    for i in k_range:\n",
    "        score = train_test_knn(X_train, X_test, y_train, y_test, i)\n",
    "        print('k=' + str(i) + ', accuracy score: ' + str(score))\n",
    "        accuracy_list.append(float(score))\n",
    "    \n",
    "    return accuracy_list"
   ]
  },
  {
   "cell_type": "markdown",
   "metadata": {},
   "source": [
    "The code cell below uses your `train_multiple_knn()` function to train 3 KNN models, specifying three values for $k$: $3, 30$, and $300$. It calls function `visualize_accuracy()` to visualize the results. Note: this make take a second."
   ]
  },
  {
   "cell_type": "code",
   "execution_count": 30,
   "metadata": {},
   "outputs": [
    {
     "name": "stdout",
     "output_type": "stream",
     "text": [
      "k=3, accuracy score: 0.759515570934256\n",
      "k=30, accuracy score: 0.7755190311418685\n",
      "k=300, accuracy score: 0.7696799307958477\n"
     ]
    },
    {
     "data": {
      "image/png": "[encoded data removed]",
      "text/plain": [
       "<Figure size 432x288 with 1 Axes>"
      ]
     },
     "metadata": {
      "needs_background": "light"
     },
     "output_type": "display_data"
    }
   ],
   "source": [
    "k_range = [3, 30, 300]\n",
    "acc = train_multiple_knns(k_range)\n",
    "\n",
    "visualize_accuracy(k_range, acc)"
   ]
  },
  {
   "cell_type": "markdown",
   "metadata": {},
   "source": [
    "<b>Task:</b> Let's train on more than values for $k$\n",
    "\n",
    "In the code cell below:\n",
    "\n",
    "1. call `train_multiple_knns()` with argument `k_range`\n",
    "2. call `visualize_accuracy()` with arguments `k_range` and the resulting accuracy list obtained from `train_multiple_knns()`\n"
   ]
  },
  {
   "cell_type": "code",
   "execution_count": 31,
   "metadata": {},
   "outputs": [
    {
     "name": "stdout",
     "output_type": "stream",
     "text": [
      "k=1, accuracy score: 0.7454584775086506\n",
      "k=4, accuracy score: 0.77530276816609\n",
      "k=7, accuracy score: 0.7654628027681661\n",
      "k=10, accuracy score: 0.7743295847750865\n",
      "k=13, accuracy score: 0.7730320069204152\n",
      "k=16, accuracy score: 0.7763840830449827\n",
      "k=19, accuracy score: 0.7754108996539792\n",
      "k=22, accuracy score: 0.776924740484429\n",
      "k=25, accuracy score: 0.77530276816609\n",
      "k=28, accuracy score: 0.7741133217993079\n",
      "k=31, accuracy score: 0.7756271626297578\n",
      "k=34, accuracy score: 0.7763840830449827\n",
      "k=37, accuracy score: 0.7749783737024222\n"
     ]
    },
    {
     "data": {
      "image/png": "[encoded data removed]",
      "text/plain": [
       "<Figure size 432x288 with 1 Axes>"
      ]
     },
     "metadata": {
      "needs_background": "light"
     },
     "output_type": "display_data"
    }
   ],
   "source": [
    "k_range = np.arange(1, 40, step = 3) \n",
    "\n",
    "# YOUR CODE HERE\n",
    "score = train_multiple_knns(k_range)\n",
    "visualize_accuracy(k_range, score)"
   ]
  },
  {
   "cell_type": "markdown",
   "metadata": {},
   "source": [
    "<b>Analysis</b>: Compare the performance of the KNN model relative to the Decision Tree model, with various hyperparameter values and record your findings in the cell below."
   ]
  },
  {
   "cell_type": "markdown",
   "metadata": {},
   "source": [
    "<Double click this Markdown cell to make it editable, and record your findings here.>\n",
    "\n",
    "Findings:\n",
    "Looking at the \"train_multiplie_..\" functions for KNN and Decision Tree, I notice an increase in accuracy when k=5 and max depth = 8 which means that increasing the hyperpatameters to these values improves the models' accuracy. However, following this point the accuracy for KNN fluctates while DT begins to drop gradually. We can assume that for DT, the model is beginning to underfit/overfit due to it's increasing complexity (depth). For KNN, this proves that the model is much simplier and easier to implement. Regardless, DT is still more accurate than KNN because it's lowest accuracy score (0.80) is higher than KNN's highest (0.77). "
   ]
  }
 ],
 "metadata": {
  "kernelspec": {
   "display_name": "Python 3",
   "language": "python",
   "name": "python3"
  },
  "language_info": {
   "codemirror_mode": {
    "name": "ipython",
    "version": 3
   },
   "file_extension": ".py",
   "mimetype": "text/x-python",
   "name": "python",
   "nbconvert_exporter": "python",
   "pygments_lexer": "ipython3",
   "version": "3.6.9"
  },
  "toc": {
   "base_numbering": 1,
   "nav_menu": {},
   "number_sections": false,
   "sideBar": true,
   "skip_h1_title": false,
   "title_cell": "Table of Contents",
   "title_sidebar": "Contents",
   "toc_cell": false,
   "toc_position": {},
   "toc_section_display": true,
   "toc_window_display": false
  },
  "varInspector": {
   "cols": {
    "lenName": 16,
    "lenType": 16,
    "lenVar": 40
   },
   "kernels_config": {
    "python": {
     "delete_cmd_postfix": "",
     "delete_cmd_prefix": "del ",
     "library": "var_list.py",
     "varRefreshCmd": "print(var_dic_list())"
    },
    "r": {
     "delete_cmd_postfix": ") ",
     "delete_cmd_prefix": "rm(",
     "library": "var_list.r",
     "varRefreshCmd": "cat(var_dic_list()) "
    }
   },
   "types_to_exclude": [
    "module",
    "function",
    "builtin_function_or_method",
    "instance",
    "_Feature"
   ],
   "window_display": false
  }
 },
 "nbformat": 4,
 "nbformat_minor": 2
}
